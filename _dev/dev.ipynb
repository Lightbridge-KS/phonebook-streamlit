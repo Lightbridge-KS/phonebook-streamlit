{
 "cells": [
  {
   "cell_type": "markdown",
   "metadata": {},
   "source": [
    "# Testing Stuff"
   ]
  },
  {
   "cell_type": "code",
   "execution_count": 3,
   "metadata": {},
   "outputs": [],
   "source": [
    "import pandas as pd\n",
    "from pyhere import here"
   ]
  },
  {
   "cell_type": "markdown",
   "metadata": {},
   "source": [
    "## Read"
   ]
  },
  {
   "cell_type": "code",
   "execution_count": 20,
   "metadata": {},
   "outputs": [],
   "source": [
    "phonebook_raw = pd.read_csv(here(\"data/TelephoneDepartment.csv\"))"
   ]
  },
  {
   "cell_type": "code",
   "execution_count": 21,
   "metadata": {},
   "outputs": [
    {
     "data": {
      "text/html": [
       "<div>\n",
       "<style scoped>\n",
       "    .dataframe tbody tr th:only-of-type {\n",
       "        vertical-align: middle;\n",
       "    }\n",
       "\n",
       "    .dataframe tbody tr th {\n",
       "        vertical-align: top;\n",
       "    }\n",
       "\n",
       "    .dataframe thead th {\n",
       "        text-align: right;\n",
       "    }\n",
       "</style>\n",
       "<table border=\"1\" class=\"dataframe\">\n",
       "  <thead>\n",
       "    <tr style=\"text-align: right;\">\n",
       "      <th></th>\n",
       "      <th>Building</th>\n",
       "      <th>Floor</th>\n",
       "      <th>CodeName</th>\n",
       "      <th>Description</th>\n",
       "      <th>Telephone</th>\n",
       "    </tr>\n",
       "  </thead>\n",
       "  <tbody>\n",
       "    <tr>\n",
       "      <th>0</th>\n",
       "      <td>NaN</td>\n",
       "      <td>NaN</td>\n",
       "      <td>General</td>\n",
       "      <td>ถามเบอร์โทรศัพท์ใดๆ</td>\n",
       "      <td>1000</td>\n",
       "    </tr>\n",
       "    <tr>\n",
       "      <th>1</th>\n",
       "      <td>NaN</td>\n",
       "      <td>NaN</td>\n",
       "      <td>INR</td>\n",
       "      <td>Intervention Neuroradiology</td>\n",
       "      <td>3390, 3391</td>\n",
       "    </tr>\n",
       "    <tr>\n",
       "      <th>2</th>\n",
       "      <td>NaN</td>\n",
       "      <td>NaN</td>\n",
       "      <td>VIR</td>\n",
       "      <td>Vascular Interventional Radiology</td>\n",
       "      <td>2460, 2470</td>\n",
       "    </tr>\n",
       "    <tr>\n",
       "      <th>3</th>\n",
       "      <td>NaN</td>\n",
       "      <td>NaN</td>\n",
       "      <td>MDJ</td>\n",
       "      <td>Stroke Unit (MDJ)</td>\n",
       "      <td>2700, 2715, 2716</td>\n",
       "    </tr>\n",
       "    <tr>\n",
       "      <th>4</th>\n",
       "      <td>NaN</td>\n",
       "      <td>NaN</td>\n",
       "      <td>HSU1</td>\n",
       "      <td>Short Stay 3</td>\n",
       "      <td>0308, 0309</td>\n",
       "    </tr>\n",
       "    <tr>\n",
       "      <th>...</th>\n",
       "      <td>...</td>\n",
       "      <td>...</td>\n",
       "      <td>...</td>\n",
       "      <td>...</td>\n",
       "      <td>...</td>\n",
       "    </tr>\n",
       "    <tr>\n",
       "      <th>63</th>\n",
       "      <td>Bldg.1</td>\n",
       "      <td>9th</td>\n",
       "      <td>9PC</td>\n",
       "      <td>Pediatric Intensive Care Unit (PICU)</td>\n",
       "      <td>1276, 1473, 1903</td>\n",
       "    </tr>\n",
       "    <tr>\n",
       "      <th>64</th>\n",
       "      <td>Bldg.1</td>\n",
       "      <td>9th</td>\n",
       "      <td>9CC</td>\n",
       "      <td>CCU Ward</td>\n",
       "      <td>1901, 1902</td>\n",
       "    </tr>\n",
       "    <tr>\n",
       "      <th>65</th>\n",
       "      <td>Bldg.1</td>\n",
       "      <td>9th</td>\n",
       "      <td>9SE</td>\n",
       "      <td>Surgery Ward</td>\n",
       "      <td>Front: 1501, 1591; Back: 1920</td>\n",
       "    </tr>\n",
       "    <tr>\n",
       "      <th>66</th>\n",
       "      <td>Bldg.1</td>\n",
       "      <td>9th</td>\n",
       "      <td>9SW</td>\n",
       "      <td>Medicine Ward</td>\n",
       "      <td>1502,1592</td>\n",
       "    </tr>\n",
       "    <tr>\n",
       "      <th>67</th>\n",
       "      <td>Bldg.1</td>\n",
       "      <td>9th</td>\n",
       "      <td>9NE</td>\n",
       "      <td>Pediatric Surgery Ward</td>\n",
       "      <td>1904, 1905, 1906, 1907</td>\n",
       "    </tr>\n",
       "  </tbody>\n",
       "</table>\n",
       "<p>68 rows × 5 columns</p>\n",
       "</div>"
      ],
      "text/plain": [
       "   Building Floor CodeName                           Description  \\\n",
       "0       NaN   NaN  General                   ถามเบอร์โทรศัพท์ใดๆ   \n",
       "1       NaN   NaN      INR           Intervention Neuroradiology   \n",
       "2       NaN   NaN      VIR     Vascular Interventional Radiology   \n",
       "3       NaN   NaN      MDJ                     Stroke Unit (MDJ)   \n",
       "4       NaN   NaN     HSU1                         Short Stay 3    \n",
       "..      ...   ...      ...                                   ...   \n",
       "63   Bldg.1   9th      9PC  Pediatric Intensive Care Unit (PICU)   \n",
       "64   Bldg.1   9th     9CC                               CCU Ward   \n",
       "65   Bldg.1   9th      9SE                          Surgery Ward   \n",
       "66   Bldg.1   9th     9SW                          Medicine Ward   \n",
       "67   Bldg.1   9th      9NE                Pediatric Surgery Ward   \n",
       "\n",
       "                        Telephone  \n",
       "0                            1000  \n",
       "1                      3390, 3391  \n",
       "2                      2460, 2470  \n",
       "3                2700, 2715, 2716  \n",
       "4                      0308, 0309  \n",
       "..                            ...  \n",
       "63               1276, 1473, 1903  \n",
       "64                     1901, 1902  \n",
       "65  Front: 1501, 1591; Back: 1920  \n",
       "66                      1502,1592  \n",
       "67         1904, 1905, 1906, 1907  \n",
       "\n",
       "[68 rows x 5 columns]"
      ]
     },
     "execution_count": 21,
     "metadata": {},
     "output_type": "execute_result"
    }
   ],
   "source": [
    "phonebook_raw"
   ]
  },
  {
   "cell_type": "code",
   "execution_count": 22,
   "metadata": {},
   "outputs": [
    {
     "data": {
      "text/plain": [
       "Building       object\n",
       "Floor          object\n",
       "CodeName       object\n",
       "Description    object\n",
       "Telephone      object\n",
       "dtype: object"
      ]
     },
     "execution_count": 22,
     "metadata": {},
     "output_type": "execute_result"
    }
   ],
   "source": [
    "phonebook_raw.dtypes"
   ]
  },
  {
   "cell_type": "markdown",
   "metadata": {},
   "source": [
    "## Process"
   ]
  },
  {
   "cell_type": "code",
   "execution_count": 27,
   "metadata": {},
   "outputs": [],
   "source": [
    "phonebook = phonebook_raw[[\"CodeName\", \"Description\", \"Telephone\"]].fillna(\"\")"
   ]
  }
 ],
 "metadata": {
  "kernelspec": {
   "display_name": "Python 3",
   "language": "python",
   "name": "python3"
  },
  "language_info": {
   "codemirror_mode": {
    "name": "ipython",
    "version": 3
   },
   "file_extension": ".py",
   "mimetype": "text/x-python",
   "name": "python",
   "nbconvert_exporter": "python",
   "pygments_lexer": "ipython3",
   "version": "3.10.10"
  }
 },
 "nbformat": 4,
 "nbformat_minor": 2
}
